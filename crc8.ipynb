{
 "cells": [
  {
   "cell_type": "code",
   "execution_count": 87,
   "metadata": {},
   "outputs": [],
   "source": [
    "import os, sys\n",
    "import numpy as np\n",
    "import matplotlib.pyplot as plt\n",
    "import matplotlib.font_manager as font_manager\n",
    "\n",
    "def lfsr_crc8_1step(bit_in, seed):\n",
    "    reg0 = np.concatenate((bit_in^seed[7], bit_in^seed[7]^seed[0]),axis=None)\n",
    "    reg1 = np.concatenate((bit_in^seed[7]^seed[1], bit_in^seed[7]^seed[2]),axis=None)\n",
    "    reg2 = np.concatenate((seed[3], bit_in^seed[7]^seed[4]),axis=None)\n",
    "    reg3 = np.concatenate((seed[5], seed[6]),axis=None)\n",
    "    reg01 = np.concatenate((reg0, reg1),axis=None)\n",
    "    reg23 = np.concatenate((reg2, reg3),axis=None)\n",
    "    reg0123 = np.concatenate((reg01, reg23),axis=None)\n",
    "    seed = reg0123\n",
    "    \n",
    "        \n",
    "    return seed\n",
    "\n",
    "def lfsr_crc8_1step_a(bit_in, seed):\n",
    "    reg0 = np.concatenate((bit_in^seed[7], seed[0]^seed[7]),axis=None)\n",
    "    reg1 = np.concatenate((seed[7]^seed[1], seed[7]^seed[2]),axis=None)\n",
    "    reg2 = np.concatenate((seed[3], seed[7]^seed[4]),axis=None)\n",
    "    reg3 = np.concatenate((seed[5], seed[6]),axis=None)\n",
    "    reg01 = np.concatenate((reg0, reg1),axis=None)\n",
    "    reg23 = np.concatenate((reg2, reg3),axis=None)\n",
    "    reg0123 = np.concatenate((reg01, reg23),axis=None)\n",
    "    seed = reg0123\n",
    "    \n",
    "        \n",
    "    return seed"
   ]
  },
  {
   "cell_type": "code",
   "execution_count": 95,
   "metadata": {},
   "outputs": [
    {
     "name": "stdout",
     "output_type": "stream",
     "text": [
      "1\n",
      "[1. 1. 1.]\n",
      "[1 2 2 3 3 4]\n",
      "[0 0 0 0 0 0 0 0]\n",
      "[0]\n",
      "[1 1 1 1 0 1 0 0]\n",
      "transimitter checksum is [0 0 1 0 1 0 1 1]\n",
      "message_ext1:  [0 0 1 0 1 0 1 1 1 1 0 0 1 0 1 1 1 1 1 1 0 1]\n",
      "receiver checksum is  [0 0 0 0 0 0 0 0]\n"
     ]
    }
   ],
   "source": [
    "a=1^0\n",
    "print(a)\n",
    "\n",
    "b=np.ones(3)\n",
    "print(b)\n",
    "\n",
    "print(np.concatenate(([1,2],[2,3],[3,4]),axis=None))\n",
    "\n",
    "# seed = np.array([1,1,1,1,1,1,1,1])\n",
    "seed = np.array([0,0,0,0,0,0,0,0])\n",
    "print(seed)\n",
    "print(seed[5:6])\n",
    "\n",
    "reg_new = lfsr_crc8_1step(1, seed)\n",
    "print(reg_new)\n",
    "\n",
    "\n",
    "################## transmitter ####################\n",
    "# message = np.array([1,1,0,1,1,1,1,0])\n",
    "message = np.array([1,1,0,0,1,0,1,1,1,1,1,1,0,1])\n",
    "initial_crc = np.array([0,0,0,0,0,0,0,0])\n",
    "message_ext0 = np.concatenate((initial_crc, message),axis=None)\n",
    "\n",
    "m_len = len(message_ext0)\n",
    "seed = np.array([0,0,0,0,0,0,0,0])\n",
    "for i in range(m_len):\n",
    "    checksum = lfsr_crc8_1step_a(message_ext0[m_len-i-1], seed)\n",
    "    seed = checksum\n",
    "\n",
    "print('transimitter checksum is',checksum)\n",
    "\n",
    "############ receiver #################\n",
    "message_ext1 = np.concatenate((checksum, message),axis=None)\n",
    "print('message_ext1: ',message_ext1)\n",
    "m_len = len(message_ext1)\n",
    "seed = np.array([0,0,0,0,0,0,0,0])\n",
    "for i in range(m_len):\n",
    "    checksum = lfsr_crc8_1step_a(message_ext1[m_len-i-1], seed)\n",
    "    seed = checksum\n",
    "\n",
    "print('receiver checksum is ',checksum)"
   ]
  },
  {
   "cell_type": "code",
   "execution_count": null,
   "metadata": {},
   "outputs": [],
   "source": []
  }
 ],
 "metadata": {
  "kernelspec": {
   "display_name": "Python 3",
   "language": "python",
   "name": "python3"
  },
  "language_info": {
   "codemirror_mode": {
    "name": "ipython",
    "version": 3
   },
   "file_extension": ".py",
   "mimetype": "text/x-python",
   "name": "python",
   "nbconvert_exporter": "python",
   "pygments_lexer": "ipython3",
   "version": "3.7.4"
  }
 },
 "nbformat": 4,
 "nbformat_minor": 4
}
